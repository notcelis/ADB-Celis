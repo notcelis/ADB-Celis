{
  "nbformat": 4,
  "nbformat_minor": 0,
  "metadata": {
    "colab": {
      "name": "Untitled1.ipynb",
      "provenance": [],
      "collapsed_sections": []
    },
    "kernelspec": {
      "name": "python3",
      "display_name": "Python 3"
    }
  },
  "cells": [
    {
      "cell_type": "code",
      "metadata": {
        "id": "9fRp5Ge5By-e",
        "colab_type": "code",
        "colab": {
          "base_uri": "https://localhost:8080/",
          "height": 527
        },
        "outputId": "53cfb267-f0c8-443a-ba7d-9a645052126c"
      },
      "source": [
        "import os\n",
        "des = True\n",
        "datanames = []\n",
        "datasizes = [];\n",
        "#Entrada de nombre de campo y tipo de dato\n",
        "while des == True:\n",
        " print(\"Ingrese el nombre de la columna ó 0 para terminar\")\n",
        " name = input()\n",
        " if  name != \"0\" :\n",
        "  datanames.append(name)\n",
        "  print(\"Ingrese su peso en Bytes\")\n",
        "  size = input()\n",
        "  datasizes.append(size)\n",
        " else:\n",
        "  des = False\n",
        "print(\"Fila recibida:\")\n",
        "for x in datanames,datasizes:\n",
        " print(x,y)\n",
        "print(\"Ingrese el número de filas de una página\")\n",
        "nufilas = input()\n",
        "print(\"Ingrese el número de páginas\")\n",
        "numpaginas = input()\n",
        "for x in datanames,datasizes:\n",
        " print(x,y)\n",
        "tamañofila=0\n",
        "for x in datasizes:\n",
        "  tamañofila += int(x)\n",
        "tamañopagina = tamañofila * int(nufilas)\n",
        "tamañoBd = tamañopagina*int(numpaginas)\n",
        "print('El tamaño de una fila es: ', tamañofila,' Bytes')\n",
        "print('El tamaño de una página es: ',float(tamañopagina)* 0.000977,' KB')\n",
        "print('El tamaño de la Bd es: ',float(tamañoBd)*(0.000000000931),' GB')\n"
      ],
      "execution_count": 68,
      "outputs": [
        {
          "output_type": "stream",
          "text": [
            "Ingrese el nombre de la columna ó 0 para terminar\n",
            "idpersona\n",
            "Ingrese su peso en Bytes\n",
            "4\n",
            "Ingrese el nombre de la columna ó 0 para terminar\n",
            "nombre\n",
            "Ingrese su peso en Bytes\n",
            "50\n",
            "Ingrese el nombre de la columna ó 0 para terminar\n",
            "apellidos\n",
            "Ingrese su peso en Bytes\n",
            "100\n",
            "Ingrese el nombre de la columna ó 0 para terminar\n",
            "fecha\n",
            "Ingrese su peso en Bytes\n",
            "3\n",
            "Ingrese el nombre de la columna ó 0 para terminar\n",
            "0\n",
            "Fila recibida:\n",
            "['idpersona', 'nombre', 'apellidos', 'fecha'] 8\n",
            "['4', '50', '100', '3'] 8\n",
            "Ingrese el número de filas de una página\n",
            "25\n",
            "Ingrese el número de páginas\n",
            "1000\n",
            "['idpersona', 'nombre', 'apellidos', 'fecha'] 8\n",
            "['4', '50', '100', '3'] 8\n",
            "El tamaño de una fila es:  157  Bytes\n",
            "El tamaño de una página es:  3.834725  KB\n",
            "El tamaño de la Bd es:  0.003654175  GB\n"
          ],
          "name": "stdout"
        }
      ]
    }
  ]
}