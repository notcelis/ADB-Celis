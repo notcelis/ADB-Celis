{
  "nbformat": 4,
  "nbformat_minor": 0,
  "metadata": {
    "colab": {
      "name": "Untitled0.ipynb",
      "version": "0.3.2",
      "provenance": [],
      "collapsed_sections": []
    },
    "kernelspec": {
      "name": "python3",
      "display_name": "Python 3"
    }
  },
  "cells": [
    {
      "cell_type": "markdown",
      "metadata": {
        "id": "U838Hjhln4_9",
        "colab_type": "text"
      },
      "source": [
        "##Práctica 0\n",
        "\n",
        "###Nombre: Celis Vargas Isaac"
      ]
    }
  ]
}